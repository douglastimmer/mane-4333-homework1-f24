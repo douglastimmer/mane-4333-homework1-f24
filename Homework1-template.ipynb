{
 "cells": [
  {
   "cell_type": "markdown",
   "id": "3b0443f2-9cd5-4538-9129-08f81ccce3f3",
   "metadata": {},
   "source": [
    "# MANE 4333\n",
    "## Homework 1\n",
    "## Your Name"
   ]
  },
  {
   "cell_type": "code",
   "execution_count": null,
   "id": "f8e2a92f-6b36-4ed5-8746-97366cf66aeb",
   "metadata": {},
   "outputs": [],
   "source": [
    "# cell 2\n",
    "# Enter the Python code required to read titanic_train.xlsx into a Pandas Data Frame in Cell Two (Code). Your code should also display the information about the DataFrame."
   ]
  },
  {
   "cell_type": "markdown",
   "id": "4013f744-9b08-4d17-bd98-8c66ed382e44",
   "metadata": {},
   "source": [
    "**Cell Three**\n",
    "\n",
    "*Provide a list of the variables and the number of observations for each variable.*"
   ]
  },
  {
   "cell_type": "code",
   "execution_count": null,
   "id": "6e355f5a-9db4-4713-b8cd-a22946e8b6cb",
   "metadata": {},
   "outputs": [],
   "source": [
    "# cell 4\n",
    "# Enter the Python Code in Cell Four (code) to display any row containing missing values."
   ]
  },
  {
   "cell_type": "markdown",
   "id": "d74af569-ac74-4965-b4ce-44c35acbcb05",
   "metadata": {},
   "source": [
    "**Cell Five**\n",
    "\n",
    "*Summarize the results from Question 5.*"
   ]
  },
  {
   "cell_type": "code",
   "execution_count": null,
   "id": "28bee4ec-6fbb-4eba-a9e2-f21c60932873",
   "metadata": {},
   "outputs": [],
   "source": [
    "# cell 6\n",
    "# If needed, enter the Python code to create a new DataFrame containing complete records for all variables."
   ]
  },
  {
   "cell_type": "markdown",
   "id": "efd9372b-40db-497b-a293-22c69ce8e6c7",
   "metadata": {},
   "source": [
    "**Cell Seven**\n",
    "\n",
    "*Describe if you needed to remove rows with missing data and what are the dimensions of the final DataFrame.*"
   ]
  },
  {
   "cell_type": "code",
   "execution_count": null,
   "id": "fc244522-0758-4903-b82b-6a0db97f22c3",
   "metadata": {},
   "outputs": [],
   "source": [
    "# cell 8\n",
    "# Enter the Python code to create a scatter matrix plot of all numeric variables in the DataFrame."
   ]
  },
  {
   "cell_type": "code",
   "execution_count": null,
   "id": "048048b8-b4b5-48df-81b0-b4d433e134ff",
   "metadata": {},
   "outputs": [],
   "source": [
    "# cell 9\n",
    "# Enter the Python code to create Box Plots of all numeric variables in the DataFrame."
   ]
  },
  {
   "cell_type": "markdown",
   "id": "8c0f521e-bd7b-4ec9-a791-68a2cc1554c6",
   "metadata": {},
   "source": [
    "**Cell Ten**\n",
    "\n",
    "*Discuss if there appears to be any outliers in the DataFrame appearing in the output from Questions 8 and 9.*"
   ]
  },
  {
   "cell_type": "code",
   "execution_count": null,
   "id": "77193973-e9cc-4f74-bd08-0ea48c9797ff",
   "metadata": {},
   "outputs": [],
   "source": [
    "# cell 11\n",
    "# Enter the Python code in to calculate the summary statistics for all variables."
   ]
  },
  {
   "cell_type": "code",
   "execution_count": null,
   "id": "5f5ae54e-4ca8-4b68-bdba-273e7d4b9d79",
   "metadata": {},
   "outputs": [],
   "source": [
    "# Cell 12\n",
    "# Enter the Python code to create a new column containing the MinMaxScaled values for 'Fare'."
   ]
  },
  {
   "cell_type": "code",
   "execution_count": null,
   "id": "4c8ad7bf-67a7-499b-b109-bf8b57b76b3d",
   "metadata": {},
   "outputs": [],
   "source": [
    "# Cell 13\n",
    "# Enter the Python code to write the updated DataFrame to an Excel spreadsheet stored in your repository."
   ]
  }
 ],
 "metadata": {
  "kernelspec": {
   "display_name": "Python 3 (ipykernel)",
   "language": "python",
   "name": "python3"
  },
  "language_info": {
   "codemirror_mode": {
    "name": "ipython",
    "version": 3
   },
   "file_extension": ".py",
   "mimetype": "text/x-python",
   "name": "python",
   "nbconvert_exporter": "python",
   "pygments_lexer": "ipython3",
   "version": "3.12.4"
  }
 },
 "nbformat": 4,
 "nbformat_minor": 5
}
